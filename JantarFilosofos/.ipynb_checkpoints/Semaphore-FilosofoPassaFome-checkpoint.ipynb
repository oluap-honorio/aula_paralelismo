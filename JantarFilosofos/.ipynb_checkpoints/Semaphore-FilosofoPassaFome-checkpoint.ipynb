{
 "cells": [
  {
   "cell_type": "code",
   "execution_count": 1,
   "metadata": {},
   "outputs": [],
   "source": [
    "from datetime import datetime \n",
    "from time import sleep, strftime, gmtime\n",
    "from threading import Thread, Semaphore\n",
    "from random import randrange"
   ]
  },
  {
   "cell_type": "code",
   "execution_count": 2,
   "metadata": {},
   "outputs": [],
   "source": [
    "class Filosofo:\n",
    "    __n_forks = 0\n",
    "    all_forks = 5\n",
    "    sem = Semaphore()\n",
    "    \n",
    "    def __init__(self, nome, num):\n",
    "        self.nome = nome\n",
    "        self.num = num\n",
    "        self.cnt_pensou = 0\n",
    "        self.cnt_comeu = 0\n",
    "        self.cnt_garfo = 0\n",
    "        \n",
    "    def  eat(self):\n",
    "        print(\"\\n[{}][{}:{}] Iniciou a comer.\"\n",
    "              .format(datetime.now().strftime('%d-%m-%Y %H:%M:%S'),self.nome,self.num))\n",
    "        sleep(randrange(1,5))# indeterminismo\n",
    "        print(\"\\n[{}][{}:{}] Terminou de comer.\"\n",
    "              .format(datetime.now().strftime('%d-%m-%Y %H:%M:%S'),self.nome,self.num))\n",
    "        self.cnt_comeu += 1\n",
    "        pass\n",
    "    \n",
    "    def  put_fork(self):\n",
    "        if self.__n_forks > 0:\n",
    "            self.__n_forks -= 1\n",
    "            Filosofo.all_forks += 1\n",
    "            self.sem.release()\n",
    "            if self.__n_forks == 1:\n",
    "                print(\"\\n[{}][{}:{}] Soltou o primeiro garfo.\"\n",
    "                      .format(datetime.now().strftime('%d-%m-%Y %H:%M:%S'),self.nome,self.num))\n",
    "            elif self.__n_forks == 0:\n",
    "                print(\"\\n[{}][{}:{}] Soltou o segundo garfo.\"\n",
    "                      .format(datetime.now().strftime('%d-%m-%Y %H:%M:%S'),self.nome,self.num))\n",
    "        pass\n",
    "    \n",
    "    def  take_fork(self):\n",
    "        while(Filosofo.all_forks < 1):\n",
    "            if self.__n_forks == 0:\n",
    "                print(\"\\n[{}][{}:{}] Aguardando o primeiro garfo.\"\n",
    "                  .format(datetime.now().strftime('%d-%m-%Y %H:%M:%S'),self.nome,self.num))\n",
    "            elif self.__n_forks == 1:\n",
    "                print(\"\\n[{}][{}:{}] Aguardando o segundo garfo.\"\n",
    "                  .format(datetime.now().strftime('%d-%m-%Y %H:%M:%S'),self.nome,self.num))\n",
    "                self.put_fork()#Solta o primeiro garfo.\n",
    "            sleep(randrange(1,10))# indeterminismo                \n",
    "        self.sem.acquire()            \n",
    "        self.cnt_garfo += 1\n",
    "        self.__n_forks += 1\n",
    "        Filosofo.all_forks -= 1\n",
    "        if self.__n_forks == 1:\n",
    "            print(\"\\n[{}][{}:{}] Pegou o primeiro garfo.\"\n",
    "                  .format(datetime.now().strftime('%d-%m-%Y %H:%M:%S'),self.nome,self.num))\n",
    "        elif self.__n_forks == 2:\n",
    "            print(\"\\n[{}][{}:{}] Pegou o segundo garfo.\"\n",
    "                  .format(datetime.now().strftime('%d-%m-%Y %H:%M:%S'),self.nome,self.num))\n",
    "        pass\n",
    "    \n",
    "    def  think(self):\n",
    "        print(\"\\n[{}][{}:{}] Está pensando...\"\n",
    "              .format(datetime.now().strftime('%d-%m-%Y %H:%M:%S'),self.nome,self.num))\n",
    "        self.cnt_pensou += 1\n",
    "        sleep(randrange(1,5))# indeterminismo\n",
    "        print(\"\\n[{}][{}:{}] Ficou faminto.\"\n",
    "              .format(datetime.now().strftime('%d-%m-%Y %H:%M:%S'),self.nome,self.num))\n",
    "        pass\n",
    "\n",
    "    def exist(self):\n",
    "#       Ciclos de realizações\n",
    "        for i in range(1,3):\n",
    "            self.think();\n",
    "            self.take_fork();\n",
    "            self.take_fork();\n",
    "            self.eat();\n",
    "            self.put_fork();\n",
    "            self.put_fork();\n",
    "            print(\"\\n\")\n",
    "            print(self.__dict__)"
   ]
  },
  {
   "cell_type": "code",
   "execution_count": 3,
   "metadata": {},
   "outputs": [
    {
     "name": "stdout",
     "output_type": "stream",
     "text": [
      "\n",
      "[10-03-2019 17:48:19][FILOSOFO:1] Está pensando...\n",
      "\n",
      "[10-03-2019 17:48:19][FILOSOFO:2] Está pensando...\n",
      "\n",
      "[10-03-2019 17:48:19][FILOSOFO:3] Está pensando...\n",
      "\n",
      "[10-03-2019 17:48:19][FILOSOFO:4] Está pensando...\n",
      "\n",
      "[10-03-2019 17:48:19][FILOSOFO:5] Está pensando...\n",
      "\n",
      "[10-03-2019 17:48:20][FILOSOFO:1] Ficou faminto.\n",
      "\n",
      "[10-03-2019 17:48:20][FILOSOFO:3] Ficou faminto.\n"
     ]
    },
    {
     "name": "stderr",
     "output_type": "stream",
     "text": [
      "Exception in thread Thread-4:\n",
      "Traceback (most recent call last):\n",
      "  File \"/usr/local/Cellar/python/3.6.5/Frameworks/Python.framework/Versions/3.6/lib/python3.6/threading.py\", line 916, in _bootstrap_inner\n",
      "    self.run()\n",
      "  File \"/usr/local/Cellar/python/3.6.5/Frameworks/Python.framework/Versions/3.6/lib/python3.6/threading.py\", line 864, in run\n",
      "    self._target(*self._args, **self._kwargs)\n",
      "  File \"<ipython-input-2-4a44ffe4984b>\", line 70, in exist\n",
      "    self.take_fork();\n",
      "  File \"<ipython-input-2-4a44ffe4984b>\", line 45, in take_fork\n",
      "    sem.acquire()\n",
      "NameError: name 'sem' is not defined\n",
      "\n",
      "Exception in thread Thread-6:\n",
      "Traceback (most recent call last):\n",
      "  File \"/usr/local/Cellar/python/3.6.5/Frameworks/Python.framework/Versions/3.6/lib/python3.6/threading.py\", line 916, in _bootstrap_inner\n",
      "    self.run()\n",
      "  File \"/usr/local/Cellar/python/3.6.5/Frameworks/Python.framework/Versions/3.6/lib/python3.6/threading.py\", line 864, in run\n",
      "    self._target(*self._args, **self._kwargs)\n",
      "  File \"<ipython-input-2-4a44ffe4984b>\", line 70, in exist\n",
      "    self.take_fork();\n",
      "  File \"<ipython-input-2-4a44ffe4984b>\", line 45, in take_fork\n",
      "    sem.acquire()\n",
      "NameError: name 'sem' is not defined\n",
      "\n"
     ]
    },
    {
     "name": "stdout",
     "output_type": "stream",
     "text": [
      "\n",
      "[10-03-2019 17:48:21][FILOSOFO:5] Ficou faminto.\n"
     ]
    },
    {
     "name": "stderr",
     "output_type": "stream",
     "text": [
      "Exception in thread Thread-8:\n",
      "Traceback (most recent call last):\n",
      "  File \"/usr/local/Cellar/python/3.6.5/Frameworks/Python.framework/Versions/3.6/lib/python3.6/threading.py\", line 916, in _bootstrap_inner\n",
      "    self.run()\n",
      "  File \"/usr/local/Cellar/python/3.6.5/Frameworks/Python.framework/Versions/3.6/lib/python3.6/threading.py\", line 864, in run\n",
      "    self._target(*self._args, **self._kwargs)\n",
      "  File \"<ipython-input-2-4a44ffe4984b>\", line 70, in exist\n",
      "    self.take_fork();\n",
      "  File \"<ipython-input-2-4a44ffe4984b>\", line 45, in take_fork\n",
      "    sem.acquire()\n",
      "NameError: name 'sem' is not defined\n",
      "\n"
     ]
    },
    {
     "name": "stdout",
     "output_type": "stream",
     "text": [
      "\n",
      "[10-03-2019 17:48:22][FILOSOFO:2] Ficou faminto.\n"
     ]
    },
    {
     "name": "stderr",
     "output_type": "stream",
     "text": [
      "Exception in thread Thread-5:\n",
      "Traceback (most recent call last):\n",
      "  File \"/usr/local/Cellar/python/3.6.5/Frameworks/Python.framework/Versions/3.6/lib/python3.6/threading.py\", line 916, in _bootstrap_inner\n",
      "    self.run()\n",
      "  File \"/usr/local/Cellar/python/3.6.5/Frameworks/Python.framework/Versions/3.6/lib/python3.6/threading.py\", line 864, in run\n",
      "    self._target(*self._args, **self._kwargs)\n",
      "  File \"<ipython-input-2-4a44ffe4984b>\", line 70, in exist\n",
      "    self.take_fork();\n",
      "  File \"<ipython-input-2-4a44ffe4984b>\", line 45, in take_fork\n",
      "    sem.acquire()\n",
      "NameError: name 'sem' is not defined\n",
      "\n"
     ]
    },
    {
     "name": "stdout",
     "output_type": "stream",
     "text": [
      "\n",
      "[10-03-2019 17:48:23][FILOSOFO:4] Ficou faminto.\n"
     ]
    },
    {
     "name": "stderr",
     "output_type": "stream",
     "text": [
      "Exception in thread Thread-7:\n",
      "Traceback (most recent call last):\n",
      "  File \"/usr/local/Cellar/python/3.6.5/Frameworks/Python.framework/Versions/3.6/lib/python3.6/threading.py\", line 916, in _bootstrap_inner\n",
      "    self.run()\n",
      "  File \"/usr/local/Cellar/python/3.6.5/Frameworks/Python.framework/Versions/3.6/lib/python3.6/threading.py\", line 864, in run\n",
      "    self._target(*self._args, **self._kwargs)\n",
      "  File \"<ipython-input-2-4a44ffe4984b>\", line 70, in exist\n",
      "    self.take_fork();\n",
      "  File \"<ipython-input-2-4a44ffe4984b>\", line 45, in take_fork\n",
      "    sem.acquire()\n",
      "NameError: name 'sem' is not defined\n",
      "\n"
     ]
    }
   ],
   "source": [
    "estatistica = []\n",
    "for i in range(1,6):\n",
    "    f = Filosofo(\"FILOSOFO\",i)\n",
    "    t = Thread(target=f.exist)\n",
    "    t.start()"
   ]
  },
  {
   "cell_type": "code",
   "execution_count": null,
   "metadata": {},
   "outputs": [],
   "source": []
  }
 ],
 "metadata": {
  "kernelspec": {
   "display_name": "Python 3",
   "language": "python",
   "name": "python3"
  },
  "language_info": {
   "codemirror_mode": {
    "name": "ipython",
    "version": 3
   },
   "file_extension": ".py",
   "mimetype": "text/x-python",
   "name": "python",
   "nbconvert_exporter": "python",
   "pygments_lexer": "ipython3",
   "version": "3.6.5"
  }
 },
 "nbformat": 4,
 "nbformat_minor": 2
}
